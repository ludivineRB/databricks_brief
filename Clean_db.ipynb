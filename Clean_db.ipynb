{
 "cells": [
  {
   "cell_type": "code",
   "execution_count": 0,
   "metadata": {
    "application/vnd.databricks.v1+cell": {
     "cellMetadata": {
      "byteLimit": 2048000,
      "rowLimit": 10000
     },
     "inputWidgets": {},
     "nuid": "049ada6e-ed67-4300-b552-9859412b9c32",
     "showTitle": false,
     "tableResultSettingsMap": {},
     "title": ""
    }
   },
   "outputs": [],
   "source": [
    "# Sélectionner ta base de données (exemple : default)\n",
    "spark.sql(\"USE default\")\n",
    "\n",
    "# Lister les tables disponibles dans la base\n",
    "spark.sql(\"SHOW TABLES\").show()\n",
    "\n",
    "# Récupération de la table raw\n",
    "df1 = spark.table(\"default.raw_table\")\n",
    "\n",
    "from pyspark.sql import functions as F\n",
    "\n",
    "# Trouver les lignes dupliquées\n",
    "duplicates = (\n",
    "    df1.groupBy(df1.columns)\n",
    "      .count()\n",
    "      .filter(F.col(\"count\") > 1)\n",
    ")\n",
    "\n",
    "duplicates.show(truncate=False)\n",
    "print(\"Nombre de doublons :\", duplicates.count())\n",
    "\n",
    "df_clean = df1.dropDuplicates()\n",
    "df_clean.write.mode(\"overwrite\").saveAsTable(\"default.clean_table\")\n",
    "\n",
    "df_clean.show(5)\n",
    "print('Nombre de lignes : ', df_clean.count())\n",
    "\n",
    "\n"
   ]
  },
  {
   "cell_type": "code",
   "execution_count": 0,
   "metadata": {
    "application/vnd.databricks.v1+cell": {
     "cellMetadata": {
      "byteLimit": 2048000,
      "rowLimit": 10000
     },
     "inputWidgets": {},
     "nuid": "509c201b-ec7c-43bb-9b1a-656e2043dd78",
     "showTitle": false,
     "tableResultSettingsMap": {},
     "title": ""
    }
   },
   "outputs": [],
   "source": [
    "from pyspark.sql import functions as F\n",
    "\n",
    "df_clean.select([F.count(F.when(F.col(c).isNull(), c)).alias(c) for c in df_clean.columns]).show()"
   ]
  }
 ],
 "metadata": {
  "application/vnd.databricks.v1+notebook": {
   "computePreferences": null,
   "dashboards": [],
   "environmentMetadata": {
    "base_environment": "",
    "environment_version": "4"
   },
   "inputWidgetPreferences": null,
   "language": "python",
   "notebookMetadata": {
    "pythonIndentUnit": 4
   },
   "notebookName": "Clean_db",
   "widgets": {}
  },
  "language_info": {
   "name": "python"
  }
 },
 "nbformat": 4,
 "nbformat_minor": 0
}
