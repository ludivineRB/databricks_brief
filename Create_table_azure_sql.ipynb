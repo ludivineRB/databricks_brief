{
 "cells": [
  {
   "cell_type": "code",
   "execution_count": 0,
   "metadata": {
    "application/vnd.databricks.v1+cell": {
     "cellMetadata": {
      "byteLimit": 2048000,
      "rowLimit": 10000
     },
     "inputWidgets": {},
     "nuid": "e8817f48-22b8-42dc-a70d-cd3fdb82e69f",
     "showTitle": false,
     "tableResultSettingsMap": {},
     "title": ""
    }
   },
   "outputs": [],
   "source": [
    "# Sélectionner ta base de données (exemple : default)\n",
    "spark.sql(\"USE default\")\n",
    "\n",
    "# Lister les tables disponibles dans la base\n",
    "spark.sql(\"SHOW TABLES\").show()\n",
    "\n",
    "# Récupération de la table raw\n",
    "df1 = spark.table(\"default.clean_table\")"
   ]
  },
  {
   "cell_type": "code",
   "execution_count": 0,
   "metadata": {
    "application/vnd.databricks.v1+cell": {
     "cellMetadata": {
      "byteLimit": 2048000,
      "rowLimit": 10000
     },
     "inputWidgets": {},
     "nuid": "a08dd0e9-d68d-4098-bb24-6718f0a157d5",
     "showTitle": false,
     "tableResultSettingsMap": {},
     "title": ""
    }
   },
   "outputs": [],
   "source": [
    "# identifier les 10 zones de départ les plus fréquentées chaque mois\n",
    "spark.sql(\"\"\"\n",
    "    CREATE TABLE IF NOT EXISTS default.Top_10_zones_depart AS\n",
    "    WITH trajets_par_mois AS (\n",
    "        SELECT \n",
    "            YEAR(tpep_pickup_datetime) AS annee,\n",
    "            MONTH(tpep_pickup_datetime) AS mois,\n",
    "            PULocationID,\n",
    "            COUNT(*) AS nb_trajets\n",
    "        FROM default.clean_table\n",
    "        GROUP BY annee, mois, PULocationID\n",
    "    ),\n",
    "    classement AS (\n",
    "        SELECT \n",
    "            annee,\n",
    "            mois,\n",
    "            PULocationID,\n",
    "            nb_trajets,\n",
    "            RANK() OVER (PARTITION BY annee, mois ORDER BY nb_trajets DESC) AS rang\n",
    "        FROM trajets_par_mois\n",
    "    )\n",
    "    SELECT *\n",
    "    FROM classement\n",
    "    WHERE rang <= 10\n",
    "    ORDER BY annee, mois, rang\n",
    "\"\"\")\n",
    "display(spark.table(\"default.Top_10_zones_depart\"))"
   ]
  },
  {
   "cell_type": "code",
   "execution_count": 0,
   "metadata": {
    "application/vnd.databricks.v1+cell": {
     "cellMetadata": {
      "byteLimit": 2048000,
      "rowLimit": 10000
     },
     "inputWidgets": {},
     "nuid": "18c2dcc4-1f67-4ef7-9d64-5f7ede72e56a",
     "showTitle": false,
     "tableResultSettingsMap": {},
     "title": ""
    }
   },
   "outputs": [],
   "source": [
    "# calculer la durée moyenne des trajets par mois\n",
    "\n",
    "df=spark.sql(\"\"\"\n",
    "            CREATE TABLE IF NOT EXISTS default.temps_moyen_trajet_mois\n",
    "           SELECT concat(year(tpep_pickup_datetime), '-', month(tpep_pickup_datetime)) as datemonth,\n",
    "           round(avg(UNIX_TIMESTAMP(tpep_dropoff_datetime) - UNIX_TIMESTAMP(tpep_pickup_datetime)), 2) AS duree\n",
    "           FROM default.clean_table\n",
    "           GROUP BY datemonth\n",
    "           ORDER BY datemonth\"\"\")\n",
    "\n",
    "df.show()"
   ]
  },
  {
   "cell_type": "code",
   "execution_count": 0,
   "metadata": {
    "application/vnd.databricks.v1+cell": {
     "cellMetadata": {
      "byteLimit": 2048000,
      "rowLimit": 10000
     },
     "inputWidgets": {},
     "nuid": "d753fe48-ad97-430c-943e-9b068842cfd2",
     "showTitle": false,
     "tableResultSettingsMap": {},
     "title": ""
    }
   },
   "outputs": [],
   "source": [
    "# déterminer la distance moyenne par type de paiement\n",
    "\n",
    "spark.sql(\"\"\"\n",
    "    CREATE TABLE IF NOT EXISTS default.distance_moyenne_par_type_paiement AS\n",
    "        SELECT payment_type, avg(trip_distance) as distance_moyenne\n",
    "        FROM default.clean_table\n",
    "        GROUP BY payment_type\n",
    "        ORDER BY distance_moyenne\"\"\")\n",
    "display(spark.table(\"default.distance_moyenne_par_type_paiement\"))\n"
   ]
  },
  {
   "cell_type": "code",
   "execution_count": 0,
   "metadata": {
    "application/vnd.databricks.v1+cell": {
     "cellMetadata": {
      "byteLimit": 2048000,
      "rowLimit": 10000
     },
     "inputWidgets": {},
     "nuid": "e95a2102-5cb3-45cb-a7d8-8578a1cadc43",
     "showTitle": false,
     "tableResultSettingsMap": {},
     "title": ""
    }
   },
   "outputs": [],
   "source": [
    "# estimer le montant moyen des courses en fonction du nombre de passagers\n",
    "spark.sql(\"\"\"\n",
    "        DROP TABLE IF EXISTS default.montant_moyen_nb_passager\"\"\")\n",
    "spark.sql(\"\"\" \n",
    "        CREATE TABLE IF NOT EXISTS default.montant_moyen_nb_passager AS\n",
    "        SELECT round(avg(total_amount), 2) as total_amount, passenger_count\n",
    "        FROM default.clean_table\n",
    "        GROUP BY passenger_count\n",
    "        ORDER BY passenger_count;\"\"\")\n",
    "display(spark.table(\"default.montant_moyen_nb_passager\"))\n",
    "\n"
   ]
  },
  {
   "cell_type": "code",
   "execution_count": 0,
   "metadata": {
    "application/vnd.databricks.v1+cell": {
     "cellMetadata": {
      "byteLimit": 2048000,
      "rowLimit": 10000
     },
     "inputWidgets": {},
     "nuid": "4fae0912-5ddd-495e-9943-e98d96770efd",
     "showTitle": false,
     "tableResultSettingsMap": {},
     "title": ""
    }
   },
   "outputs": [],
   "source": [
    "# mesurer la somme totale des pourboires versés chaque moisspark.sql(\"\"\"\n",
    "spark.sql(\"\"\"\n",
    "        DROP TABLE IF EXISTS default.somme_pourboire_mois\"\"\")\n",
    "spark.sql(\"\"\" \n",
    "        CREATE TABLE IF NOT EXISTS default.somme_pourboire_mois AS\n",
    "        SELECT round(SUM(tip_amount), 2) as tip_amount, concat(year(tpep_pickup_datetime), '-', month(tpep_pickup_datetime)) as month_year\n",
    "        FROM default.clean_table\n",
    "        GROUP BY concat(year(tpep_pickup_datetime), '-', month(tpep_pickup_datetime))\n",
    "        ORDER BY concat(year(tpep_pickup_datetime), '-', month(tpep_pickup_datetime));\"\"\")\n",
    "display(spark.table(\"default.somme_pourboire_mois\"))\n"
   ]
  },
  {
   "cell_type": "code",
   "execution_count": 0,
   "metadata": {
    "application/vnd.databricks.v1+cell": {
     "cellMetadata": {
      "byteLimit": 2048000,
      "rowLimit": 10000
     },
     "inputWidgets": {},
     "nuid": "846349bc-e507-4c6f-b52e-bb4e31747570",
     "showTitle": false,
     "tableResultSettingsMap": {},
     "title": ""
    }
   },
   "outputs": [],
   "source": [
    "import os\n",
    "\n",
    "jdbc_username = os.environ.get(\"LOGIN\")\n",
    "jdbc_password = os.environ.get(\"PASSWORD\")\n",
    "\n",
    "print(\"Utilisateur connecté :\", jdbc_username)\n",
    "\n",
    "jdbc_url = \"jdbc:sqlserver://cacfsql.database.windows.net:1433;database=brief\"\n",
    "\n",
    "connection_properties = {\n",
    "    \"user\": jdbc_username,\n",
    "    \"password\": jdbc_password,\n",
    "    \"driver\": \"com.microsoft.sqlserver.jdbc.SQLServerDriver\"\n",
    "}"
   ]
  },
  {
   "cell_type": "code",
   "execution_count": 0,
   "metadata": {
    "application/vnd.databricks.v1+cell": {
     "cellMetadata": {
      "byteLimit": 2048000,
      "rowLimit": 10000
     },
     "inputWidgets": {},
     "nuid": "03eed009-e9e3-42cd-8783-85af00b72a46",
     "showTitle": false,
     "tableResultSettingsMap": {},
     "title": ""
    }
   },
   "outputs": [],
   "source": [
    "# Écrire un DataFrame dans une table d’une base de données via JDBC\n",
    "tables = [\"somme_pourboire_mois\", \"distance_moyenne_par_type_paiement\", \"temps_moyen_trajet_mois\", \"montant_moyen_nb_passager\", \"top_10_zones_depart\"]\n",
    "\n",
    "for table in tables : \n",
    "    df = spark.table(\"default.\"+table)\n",
    "    df.write.mode(\"overwrite\").jdbc(\n",
    "        url=jdbc_url,\n",
    "        table=\"lr_\"+table,\n",
    "        properties={\n",
    "            \"user\": jdbc_username,\n",
    "            \"password\": jdbc_password,\n",
    "            \"driver\": \"com.microsoft.sqlserver.jdbc.SQLServerDriver\"\n",
    "        }\n",
    ")"
   ]
  }
 ],
 "metadata": {
  "application/vnd.databricks.v1+notebook": {
   "computePreferences": null,
   "dashboards": [],
   "environmentMetadata": {
    "base_environment": "",
    "environment_version": "4"
   },
   "inputWidgetPreferences": null,
   "language": "python",
   "notebookMetadata": {
    "pythonIndentUnit": 4
   },
   "notebookName": "Create_table_azure_sql",
   "widgets": {}
  },
  "language_info": {
   "name": "python"
  }
 },
 "nbformat": 4,
 "nbformat_minor": 0
}
