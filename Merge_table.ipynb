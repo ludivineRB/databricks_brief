{
 "cells": [
  {
   "cell_type": "code",
   "execution_count": 0,
   "metadata": {
    "application/vnd.databricks.v1+cell": {
     "cellMetadata": {
      "byteLimit": 2048000,
      "rowLimit": 10000
     },
     "inputWidgets": {},
     "nuid": "5750d65c-3274-47c4-8c31-e791b12e09aa",
     "showTitle": false,
     "tableResultSettingsMap": {},
     "title": ""
    }
   },
   "outputs": [],
   "source": [
    "# Lister toutes les bases de données\n",
    "spark.sql(\"SHOW DATABASES\").show()\n",
    "\n",
    "# Sélectionner ta base de données (exemple : default)\n",
    "spark.sql(\"USE default\")\n",
    "\n",
    "# Lister les tables disponibles dans la base\n",
    "spark.sql(\"SHOW TABLES\").show()\n"
   ]
  },
  {
   "cell_type": "code",
   "execution_count": 0,
   "metadata": {
    "application/vnd.databricks.v1+cell": {
     "cellMetadata": {
      "byteLimit": 2048000,
      "rowLimit": 10000
     },
     "inputWidgets": {},
     "nuid": "558a2228-9170-4af4-b694-63d60704cc88",
     "showTitle": false,
     "tableResultSettingsMap": {},
     "title": ""
    }
   },
   "outputs": [],
   "source": [
    "# Charger les bibliothèques Spark\n",
    "from pyspark.sql import SparkSession\n",
    "from pyspark.sql.functions import lit\n",
    "\n",
    "\n",
    "spark = SparkSession.builder.appName(\"NettoyageDonnees\").getOrCreate()\n",
    "\n",
    "# Charger les tables\n",
    "df1 = spark.table(\"default.yellow_tripdata_2024_01\")\n",
    "df2 = spark.table(\"default.yellow_tripdata_2024_03\")\n",
    "df3 = spark.table(\"default.yellow_tripdata_2024_07\")\n",
    "df4 = spark.table(\"default.yellow_tripdata_2024_11\")\n",
    "df5 = spark.table(\"default.yellow_tripdata_2025_09\")\n",
    "\n",
    "\n",
    "# Trouver toutes les colonnes présentes dans au moins une table\n",
    "all_columns = set(df1.columns) | set(df2.columns) | set(df3.columns) | set(df4.columns) | set(df5.columns)\n",
    "\n",
    "# Fonction pour ajouter les colonnes manquantes\n",
    "def add_missing_cols(df, all_cols):\n",
    "    existing_cols = set(df.columns)\n",
    "    for c in all_cols - existing_cols:\n",
    "        df = df.withColumn(c, lit(None))  # ajoute une colonne vide (null)\n",
    "    return df.select(sorted(all_cols))  # garder le même ordre\n",
    "\n",
    "# Ajouter les colonnes manquantes\n",
    "df1 = add_missing_cols(df1, all_columns)\n",
    "df2 = add_missing_cols(df2, all_columns)\n",
    "df3 = add_missing_cols(df3, all_columns)\n",
    "df4 = add_missing_cols(df4, all_columns)\n",
    "df5 = add_missing_cols(df5, all_columns)\n",
    "\n",
    "\n",
    "merged_df1 = df1.union(df2)\n",
    "merged_df2 = merged_df1.union(df3)\n",
    "merged_df3 = merged_df2.union(df4)\n",
    "df = merged_df3.union(df5)\n",
    "\n",
    "df.write.mode(\"overwrite\").saveAsTable(\"default.Raw_table\")\n",
    "\n",
    "# Afficher les 5 premières lignes\n",
    "df.show(5)\n"
   ]
  }
 ],
 "metadata": {
  "application/vnd.databricks.v1+notebook": {
   "computePreferences": null,
   "dashboards": [],
   "environmentMetadata": {
    "base_environment": "",
    "environment_version": "4"
   },
   "inputWidgetPreferences": null,
   "language": "python",
   "notebookMetadata": {
    "pythonIndentUnit": 4
   },
   "notebookName": "Merge_table",
   "widgets": {}
  },
  "language_info": {
   "name": "python"
  }
 },
 "nbformat": 4,
 "nbformat_minor": 0
}
